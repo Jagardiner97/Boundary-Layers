{
 "cells": [
  {
   "metadata": {},
   "cell_type": "markdown",
   "source": [
    "# Boundary Layer Final Project\n",
    "\n",
    "The goal of this project is to determine flow characteristics for turbulent flow from PIV data.\n",
    "\n",
    "### Project Requirements\n",
    "* Reproduce the turbulent parts of figure 1.a and 1.b from Adrian. Make the plots for 1.b for y+ = 5, 10, 100, 500\n",
    "* Find the wall shear stress value by curve fitting a Spaulding profile\n",
    "* Plot the mean streamwise velocity in wall coordinates\n",
    "* Find the mixing length as a function of position the boundary layer"
   ],
   "id": "24c6fa8129e2741e"
  },
  {
   "cell_type": "code",
   "id": "initial_id",
   "metadata": {
    "collapsed": true,
    "ExecuteTime": {
     "end_time": "2024-04-11T19:03:24.657791Z",
     "start_time": "2024-04-11T19:03:23.397410Z"
    }
   },
   "source": [
    "# Import libraries\n",
    "import numpy as np\n",
    "import matplotlib.pyplot as plt"
   ],
   "outputs": [],
   "execution_count": 1
  },
  {
   "metadata": {
    "ExecuteTime": {
     "end_time": "2024-04-11T19:03:24.672943Z",
     "start_time": "2024-04-11T19:03:24.657791Z"
    }
   },
   "cell_type": "code",
   "source": [
    "def read_file(file_path, wall=None, index=None):\n",
    "    '''\n",
    "    Reads from a tecplot piv data file and returns the y points and average values for u and v\n",
    "    :param file_path: path to the tecplot piv file\n",
    "    :param wall: actual y location of the wall in mm, can be unspecified to include all data\n",
    "    :param index: index of the wall y position in the returned y points\n",
    "    :return: \n",
    "    y_points: list of y distances for the grid\n",
    "    v_ave: average v value at each y point \n",
    "    u_ave: average u value at each y point\n",
    "    '''\n",
    "    # Check if a wall offset and index are given\n",
    "    if wall is None:\n",
    "        wall = -np.inf\n",
    "    if index is None:\n",
    "        y_idxs = 324\n",
    "    else:\n",
    "        y_idxs = 325 + index\n",
    "    \n",
    "    # Initialize data lists\n",
    "    y_points = []\n",
    "    v_values = []\n",
    "    u_values = []\n",
    "    i = 0\n",
    "    for j in range(y_idxs):\n",
    "        v_values.append([])\n",
    "        u_values.append([])\n",
    "    \n",
    "    # Skip beginning profiles if desired\n",
    "    n = 0    \n",
    "    skip = 3 + 324*n\n",
    "    \n",
    "    # Open the file and read line by line\n",
    "    with open(file_path, 'r') as file:\n",
    "        for _ in range(skip):\n",
    "            next(file)\n",
    "        for line in file:\n",
    "            # Split line by space\n",
    "            parts = line.split()\n",
    "            \n",
    "            # Extract the data\n",
    "            y = float(parts[0])\n",
    "            v = float(parts[2])\n",
    "            u = float(parts[3])\n",
    "            \n",
    "            # Add to the relevant lists\n",
    "            if i < y_idxs:\n",
    "                if -y not in y_points:\n",
    "                    y_points.append(-y)\n",
    "                if v != 0.0:\n",
    "                    v_values[i].append(v)\n",
    "                if u != 0.0:\n",
    "                    u_values[i].append(-u)\n",
    "            \n",
    "            # Adjust index\n",
    "            i += 1\n",
    "            if i==324:\n",
    "                i = 0\n",
    "    \n",
    "    # Average the u and v values\n",
    "    v_ave = []\n",
    "    u_ave = []\n",
    "    for j in range(y_idxs):\n",
    "        if len(v_values[j])>0:\n",
    "            v_ave.append(np.mean(v_values[j]))\n",
    "        else:\n",
    "            v_ave.append(0.0)\n",
    "        if len(u_values[j])>0:\n",
    "            u_ave.append(np.mean(u_values[j]))\n",
    "        else:\n",
    "            u_ave.append(0.0)\n",
    "    return y_points, v_ave, u_ave"
   ],
   "id": "b84d1806cb35e6a1",
   "outputs": [],
   "execution_count": 2
  },
  {
   "metadata": {
    "ExecuteTime": {
     "end_time": "2024-04-11T19:03:24.788036Z",
     "start_time": "2024-04-11T19:03:24.672943Z"
    }
   },
   "cell_type": "code",
   "source": [
    "# Get averages for u and v for one file\n",
    "y_cal, v_cal, u_cal = read_file('piv-data/B00001.dat')"
   ],
   "id": "a7105a2a48192f18",
   "outputs": [],
   "execution_count": 3
  },
  {
   "metadata": {
    "ExecuteTime": {
     "end_time": "2024-04-11T19:03:24.928544Z",
     "start_time": "2024-04-11T19:03:24.788036Z"
    }
   },
   "cell_type": "code",
   "source": [
    "# Plot the averages for u and v across all profiles in the first file\n",
    "plt.plot(y_cal, u_cal, label=\"u\")\n",
    "plt.plot(y_cal, v_cal, label=\"v\")\n",
    "plt.legend()\n",
    "plt.xlabel(\"y (mm)\")\n",
    "plt.ylabel(\"velocity (m/s)\")\n",
    "plt.title(\"Average Velocity Profiles for the Calibration File\")\n",
    "plt.show()"
   ],
   "id": "595f69d52d4ce3fd",
   "outputs": [
    {
     "data": {
      "text/plain": [
       "<Figure size 640x480 with 1 Axes>"
      ],
      "image/png": "[encoded data removed]"
     },
     "metadata": {},
     "output_type": "display_data"
    }
   ],
   "execution_count": 4
  },
  {
   "metadata": {
    "ExecuteTime": {
     "end_time": "2024-04-11T19:03:24.934396Z",
     "start_time": "2024-04-11T19:03:24.928544Z"
    }
   },
   "cell_type": "code",
   "source": [
    "def find_wall(y_values, v_values):\n",
    "    '''\n",
    "    Takes in a v profile and determines the location of the wall using the inflection point\n",
    "    :param y_values: y distance given in the data file\n",
    "    :param v_values: v velocity component at y \n",
    "    :return: \n",
    "    wall_loc: location of the wall using the index found by the min\n",
    "    '''\n",
    "    min = np.inf\n",
    "    count = 0\n",
    "    min_index = 0\n",
    "    for i in range(1, len(y_values)):\n",
    "        ui = v_values[-i]\n",
    "        if ui != 0.0:\n",
    "            if ui < min:\n",
    "                min = ui\n",
    "                count = 0\n",
    "                min_index = -i\n",
    "            else:\n",
    "                count += 1\n",
    "        if count >= 3:\n",
    "            break\n",
    "    return y_values[min_index], min_index"
   ],
   "id": "c2b5803851973e91",
   "outputs": [],
   "execution_count": 5
  },
  {
   "metadata": {
    "ExecuteTime": {
     "end_time": "2024-04-11T19:03:24.942644Z",
     "start_time": "2024-04-11T19:03:24.934396Z"
    }
   },
   "cell_type": "code",
   "source": [
    "# Find the wall location based on the average v and y profile for B00001.dat\n",
    "wall_loc, wall_index = find_wall(y_cal, u_cal)\n",
    "print(\"Wall Offset:\", wall_loc)\n",
    "print(\"u at wall:\", u_cal[wall_index])\n",
    "print(\"v at wall:\", v_cal[wall_index])"
   ],
   "id": "c4ac4e5c837af683",
   "outputs": [
    {
     "name": "stdout",
     "output_type": "stream",
     "text": [
      "Wall Offset: -0.020497\n",
      "u at wall: 0.4773524615384615\n",
      "v at wall: -0.06569396923076924\n"
     ]
    }
   ],
   "execution_count": 6
  },
  {
   "metadata": {
    "ExecuteTime": {
     "end_time": "2024-04-11T19:03:24.950875Z",
     "start_time": "2024-04-11T19:03:24.942644Z"
    }
   },
   "cell_type": "code",
   "source": [
    "def all_data(num_files, wall_location, wall_idx):\n",
    "    '''\n",
    "    Reads all data files and returns u and v averages for each file, and time averages\n",
    "    :param num_files: number of files to read (valid for up to 10_000)\n",
    "    :param wall_location: location of the wall in mm based on the original coordinate system\n",
    "    :param wall_idx: index of the wall y position in the y points list\n",
    "    :return: \n",
    "    y_points: list of y distances for the grid\n",
    "    v_values: v averages for each file\n",
    "    u_values: u averages for each file\n",
    "    v_aves: average v value at each y point across all files\n",
    "    u_aves: average u value at each y point across all files\n",
    "    '''\n",
    "    # Initialize Data Lists\n",
    "    y_points = []\n",
    "    v_values = []\n",
    "    u_values = []\n",
    "    for i in range(1, num_files+1):\n",
    "        # Determine the filename (works for num_files < 10_000)\n",
    "        if i < 10:\n",
    "            filename = f\"piv-data/B0000{i}.dat\"\n",
    "        elif i < 100:\n",
    "            filename = f\"piv-data/B000{i}.dat\"\n",
    "        elif i < 1000:\n",
    "            filename = f\"piv-data/B00{i}.dat\"\n",
    "        else:\n",
    "            filename = f\"piv-data/B0{i}.dat\"\n",
    "        \n",
    "        # Read the files and add data to lists\n",
    "        if i == 1:\n",
    "            y_points, v_file, u_file = read_file(filename, wall=wall_location, index=wall_idx)\n",
    "        else:\n",
    "            _, v_file, u_file = read_file(filename, wall=wall_location, index=wall_idx)\n",
    "        v_values.append(v_file)\n",
    "        u_values.append(u_file)\n",
    "        \n",
    "    # Determine the averages\n",
    "    v_aves = []\n",
    "    u_aves = []\n",
    "    for i in range(len(v_values[0])):\n",
    "        v_sum = 0\n",
    "        u_sum = 0\n",
    "        for j in range(len(v_values)):\n",
    "            v_sum += v_values[j][i]\n",
    "            u_sum += u_values[j][i]\n",
    "        v_sum /= len(v_values)\n",
    "        v_aves.append(v_sum)\n",
    "        u_sum /= len(u_values)\n",
    "        u_aves.append(u_sum)\n",
    "    \n",
    "    # Return full data and averages\n",
    "    return y_points, v_values, u_values, v_aves, u_aves"
   ],
   "id": "8d65139aa4fb5d7b",
   "outputs": [],
   "execution_count": 7
  },
  {
   "metadata": {
    "ExecuteTime": {
     "end_time": "2024-04-11T19:05:04.864783Z",
     "start_time": "2024-04-11T19:03:24.950875Z"
    }
   },
   "cell_type": "code",
   "source": [
    "# Get all data and averages with wall data excluded\n",
    "y, v_all, u_all, v_average, u_average = all_data(1000, wall_loc, wall_index)\n",
    "\n",
    "# Plot the averages for u and v across all profiles across all files\n",
    "plt.plot(y, u_average, label=\"u\")\n",
    "plt.plot(y, v_average, label=\"v\")\n",
    "plt.legend()\n",
    "plt.xlabel(\"y (mm)\")\n",
    "plt.ylabel(\"velocity (m/s)\")\n",
    "plt.title(\"Average Velocities Across All Files\")\n",
    "plt.show()"
   ],
   "id": "31c8d727eda0ce7e",
   "outputs": [
    {
     "data": {
      "text/plain": [
       "<Figure size 640x480 with 1 Axes>"
      ],
      "image/png": "[encoded data removed]"
     },
     "metadata": {},
     "output_type": "display_data"
    }
   ],
   "execution_count": 8
  }
 ],
 "metadata": {
  "kernelspec": {
   "display_name": "Python 3",
   "language": "python",
   "name": "python3"
  },
  "language_info": {
   "codemirror_mode": {
    "name": "ipython",
    "version": 2
   },
   "file_extension": ".py",
   "mimetype": "text/x-python",
   "name": "python",
   "nbconvert_exporter": "python",
   "pygments_lexer": "ipython2",
   "version": "2.7.6"
  }
 },
 "nbformat": 4,
 "nbformat_minor": 5
}
