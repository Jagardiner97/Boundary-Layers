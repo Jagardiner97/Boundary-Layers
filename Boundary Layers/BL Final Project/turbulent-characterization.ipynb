{
 "cells": [
  {
   "metadata": {},
   "cell_type": "markdown",
   "source": [
    "# Boundary Layer Final Project\n",
    "\n",
    "The goal of this project is to determine flow characteristics for turbulent flow from PIV data.\n",
    "\n",
    "### Project Requirements\n",
    "* Reproduce the turbulent parts of figure 1.a and 1.b from Adrian. Make the plots for 1.b for y+ = 5, 10, 100, 500\n",
    "* Find the wall shear stress value by curve fitting a Spaulding profile\n",
    "* Plot the mean streamwise velocity in wall coordinates\n",
    "* Find the mixing length as a function of position the boundary layer"
   ],
   "id": "24c6fa8129e2741e"
  },
  {
   "cell_type": "code",
   "id": "initial_id",
   "metadata": {
    "collapsed": true,
    "ExecuteTime": {
     "end_time": "2024-04-08T19:15:52.628393Z",
     "start_time": "2024-04-08T19:15:51.785929Z"
    }
   },
   "source": [
    "# Import libraries\n",
    "import pandas as pd\n",
    "import numpy as np\n",
    "import matplotlib.pyplot as plt"
   ],
   "outputs": [],
   "execution_count": 1
  },
  {
   "metadata": {
    "ExecuteTime": {
     "end_time": "2024-04-08T19:21:07.565849Z",
     "start_time": "2024-04-08T19:20:26.409305Z"
    }
   },
   "cell_type": "code",
   "source": [
    "# Read the Data\n",
    "x = []\n",
    "y = []\n",
    "v = []\n",
    "u = []\n",
    "for i in range(1, 1000+1):\n",
    "    if i < 10:\n",
    "        filename = f'piv-data/B0000{i}.dat'\n",
    "    elif i < 100:\n",
    "        filename = f'piv-data/B000{i}.dat'\n",
    "    elif i < 1000:\n",
    "        filename = f'piv-data/B00{i}.dat'\n",
    "    else:\n",
    "        filename = f'piv-data/B0{i}.dat'\n",
    "    data = pd.read_csv(filename, header=None, delimiter=\" \", skiprows=3)\n",
    "    if len(x) == 0:\n",
    "        x_raw = data.iloc[:, 0]\n",
    "        for x_val in x_raw:\n",
    "            x_adjusted = -1 * x_val\n",
    "            if x_adjusted not in x:\n",
    "                x.append(x_adjusted)\n",
    "    if len(y) == 0:\n",
    "        y_raw = data.iloc[:, 1].values\n",
    "        for y_val in y_raw:\n",
    "            if y_val not in y:\n",
    "                y.append(y_val)\n",
    "    vx = data.iloc[:, 2].values\n",
    "    vy = data.iloc[:, 3].values\n",
    "    v_row = []\n",
    "    u_row = []\n",
    "    v_grid = []\n",
    "    u_grid = []\n",
    "    for j in range(len(vx)):\n",
    "        x_index = len(u_row)\n",
    "        if x_index % len(x) == 0 and x_index != 0:\n",
    "            v_grid.append(v_row)\n",
    "            u_grid.append(u_row)\n",
    "            v_row = []\n",
    "            u_row = []\n",
    "        v_row.append(vx[i])\n",
    "        u_row.append(vy[i])\n",
    "    v.append(v_grid)\n",
    "    u.append(u_grid)\n",
    "print(f\"x: {len(x)}\")\n",
    "print(f\"y: {len(y)}\")"
   ],
   "id": "187977cacfb27529",
   "outputs": [
    {
     "name": "stdout",
     "output_type": "stream",
     "text": [
      "x: 324\n",
      "y: 131\n"
     ]
    }
   ],
   "execution_count": 4
  },
  {
   "metadata": {
    "ExecuteTime": {
     "end_time": "2024-04-08T19:29:39.689681Z",
     "start_time": "2024-04-08T19:29:39.684067Z"
    }
   },
   "cell_type": "code",
   "source": "print(len(u))",
   "id": "6f5b4b67dc415095",
   "outputs": [
    {
     "name": "stdout",
     "output_type": "stream",
     "text": [
      "1000\n"
     ]
    }
   ],
   "execution_count": 12
  },
  {
   "metadata": {
    "ExecuteTime": {
     "end_time": "2024-04-08T19:41:30.600473Z",
     "start_time": "2024-04-08T19:41:30.458212Z"
    }
   },
   "cell_type": "code",
   "source": [
    "# Wall Coordinate Transformations\n",
    "plt.figure()\n",
    "plt.contour(x, y[0:-1], v[999], levels=20)\n",
    "plt.xlabel(\"x\")\n",
    "plt.ylabel(\"y\")\n",
    "plt.colorbar(label=\"z\")\n",
    "plt.grid(True)\n",
    "plt.show()"
   ],
   "id": "89eac102ce7b489f",
   "outputs": [
    {
     "data": {
      "text/plain": [
       "<Figure size 640x480 with 2 Axes>"
      ],
      "image/png": "[encoded data removed]"
     },
     "metadata": {},
     "output_type": "display_data"
    }
   ],
   "execution_count": 17
  },
  {
   "metadata": {},
   "cell_type": "code",
   "outputs": [],
   "execution_count": null,
   "source": "",
   "id": "223818c634cca1ee"
  }
 ],
 "metadata": {
  "kernelspec": {
   "display_name": "Python 3",
   "language": "python",
   "name": "python3"
  },
  "language_info": {
   "codemirror_mode": {
    "name": "ipython",
    "version": 2
   },
   "file_extension": ".py",
   "mimetype": "text/x-python",
   "name": "python",
   "nbconvert_exporter": "python",
   "pygments_lexer": "ipython2",
   "version": "2.7.6"
  }
 },
 "nbformat": 4,
 "nbformat_minor": 5
}
